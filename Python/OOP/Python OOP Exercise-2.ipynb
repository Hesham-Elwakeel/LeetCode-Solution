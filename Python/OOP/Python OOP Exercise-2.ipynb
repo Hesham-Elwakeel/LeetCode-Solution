{
 "cells": [
  {
   "cell_type": "markdown",
   "id": "45f7adea-a6cf-4c28-a551-4d01b89f050c",
   "metadata": {},
   "source": [
    "### Write a Python program to create a person class. Include attributes like name, country and date of birth. Implement a method to determine the person's age."
   ]
  },
  {
   "cell_type": "code",
   "execution_count": 1,
   "id": "9ec9a075-5c95-495b-9eb8-974d6e482ba7",
   "metadata": {},
   "outputs": [],
   "source": [
    "# Import the date class from the datetime module to work with dates\n",
    "from datetime  import date"
   ]
  },
  {
   "cell_type": "code",
   "execution_count": 2,
   "id": "58b3b384-6701-465c-8432-f4575e266aa3",
   "metadata": {},
   "outputs": [],
   "source": [
    "# Define a class called Person to represent a person with a name, country, and date of birth\n",
    "class Person:\n",
    "    # Initialize the Person object with a name, country, and date of birth\n",
    "    def __init__(self, name, country, date_of_birth):\n",
    "        self.name = name\n",
    "        self.country = country\n",
    "        self.date_of_birth = date_of_birth\n",
    "    \n",
    "    # Calculate the age of the person based on their date of birth\n",
    "    def calculate_age(self):\n",
    "        today = date.today()\n",
    "        age = today.year - self.date_of_birth.year\n",
    "        if today < date(today.year, self.date_of_birth.month, self.date_of_birth.day):\n",
    "            age -= 1\n",
    "        return age"
   ]
  },
  {
   "cell_type": "code",
   "execution_count": 3,
   "id": "8bf76f51-62dc-4663-8d41-256a9eee10cc",
   "metadata": {},
   "outputs": [],
   "source": [
    "# Create three Person objects with different attributes\n",
    "person1 = Person('Hesham', 'Egypt', date(2000, 1, 20))\n",
    "person2 = Person('Laya', 'Egypt', date(2020, 10, 20))\n",
    "person2 = Person('Khadija', 'Egypt', date(2010, 1, 1))"
   ]
  },
  {
   "cell_type": "code",
   "execution_count": 59,
   "id": "2849eaf9-dfa4-4a9f-9de9-c18c00caab68",
   "metadata": {},
   "outputs": [
    {
     "name": "stdout",
     "output_type": "stream",
     "text": [
      "Person 1:\n",
      "Name: Hesham\n",
      "Country: Egypt\n",
      "Date of Birth: 2000-01-20\n",
      "Age: 24\n"
     ]
    }
   ],
   "source": [
    "# Access and print the attributes and calculated age for each person\n",
    "print(\"Person 1:\")\n",
    "print(\"Name:\", person1.name)\n",
    "print(\"Country:\", person1.country)\n",
    "print(\"Date of Birth:\", person1.date_of_birth)\n",
    "print(\"Age:\", person1.calculate_age())"
   ]
  },
  {
   "cell_type": "code",
   "execution_count": 67,
   "id": "cba77fa0-716a-4066-8a42-9afbd32c0dde",
   "metadata": {},
   "outputs": [
    {
     "name": "stdout",
     "output_type": "stream",
     "text": [
      "Person 2:\n",
      "Name: Khadija\n",
      "Country: Egypt\n",
      "Date of Birth: 2010-01-01\n",
      "Age: 14\n"
     ]
    }
   ],
   "source": [
    "print(\"Person 2:\")\n",
    "print(\"Name:\", person2.name)\n",
    "print(\"Country:\", person2.country)\n",
    "print(\"Date of Birth:\", person2.date_of_birth)\n",
    "print(\"Age:\", person2.calculate_age())"
   ]
  },
  {
   "cell_type": "code",
   "execution_count": 70,
   "id": "d6a89470-7497-467b-a730-54fde6b6c169",
   "metadata": {},
   "outputs": [
    {
     "name": "stdout",
     "output_type": "stream",
     "text": [
      "Person 3:\n",
      "Name: Elizaveta Tilman\n",
      "Country: USA\n",
      "Date of Birth: 2000-01-01\n",
      "Age: 24\n"
     ]
    }
   ],
   "source": [
    "print(\"Person 3:\")\n",
    "print(\"Name:\", person3.name)\n",
    "print(\"Country:\", person3.country)\n",
    "print(\"Date of Birth:\", person3.date_of_birth)\n",
    "print(\"Age:\", person3.calculate_age())"
   ]
  },
  {
   "cell_type": "code",
   "execution_count": null,
   "id": "91451407-3023-468c-8be9-1bafb211caee",
   "metadata": {},
   "outputs": [],
   "source": []
  },
  {
   "cell_type": "code",
   "execution_count": null,
   "id": "96db020f-d579-4529-a675-bde6acece862",
   "metadata": {},
   "outputs": [],
   "source": []
  }
 ],
 "metadata": {
  "kernelspec": {
   "display_name": "Python 3 (ipykernel)",
   "language": "python",
   "name": "python3"
  },
  "language_info": {
   "codemirror_mode": {
    "name": "ipython",
    "version": 3
   },
   "file_extension": ".py",
   "mimetype": "text/x-python",
   "name": "python",
   "nbconvert_exporter": "python",
   "pygments_lexer": "ipython3",
   "version": "3.11.7"
  }
 },
 "nbformat": 4,
 "nbformat_minor": 5
}
