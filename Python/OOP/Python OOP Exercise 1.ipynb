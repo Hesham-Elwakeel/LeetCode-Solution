{
 "cells": [
  {
   "cell_type": "markdown",
   "id": "175a1114-3bdb-4294-8973-54d7c08a2c03",
   "metadata": {},
   "source": [
    "#### writre a program to create a class that represents a shape. Include methods to calculate its area and perimeter. Implement subclasses for different shapes like circle, triangle, and square."
   ]
  },
  {
   "cell_type": "code",
   "execution_count": 1,
   "id": "20c414a5-d13e-4d8c-99c6-853d40f03441",
   "metadata": {},
   "outputs": [],
   "source": [
    "# import math module to access mathematical function\n",
    "import math"
   ]
  },
  {
   "cell_type": "code",
   "execution_count": 2,
   "id": "13fc85de-7be4-4f06-8362-1c839a5f0644",
   "metadata": {},
   "outputs": [],
   "source": [
    "## Define a base class called Shape to represent a generic shape with methods for calculating area and perimeter\n",
    "class Shape():\n",
    "    # Placeholder method for calculating area (to be implemented in derived classes)\n",
    "    def calculate_area(self):\n",
    "        pass\n",
    "    # Placeholder method for calculating perimeter (to be implemented in derived classes)\n",
    "    def calculate_perimeter(self):\n",
    "        pass"
   ]
  },
  {
   "cell_type": "markdown",
   "id": "2bf7e1e8-366d-41b5-96e1-3e0caf0be951",
   "metadata": {},
   "source": [
    "### Circle"
   ]
  },
  {
   "cell_type": "code",
   "execution_count": 4,
   "id": "9bbe1397-3e80-4648-bb06-7aa0b53c0bd0",
   "metadata": {},
   "outputs": [],
   "source": [
    "# Define a derived class called Circle, which inherits from the Shape class\n",
    "class Circle(Shape):\n",
    "    # Initialize the Circle object with a given radius\n",
    "    def __init__(self, raduis):\n",
    "        self.raduis = raduis\n",
    "    # Calculate and return the area of the circle using the formula: π * r^2\n",
    "    def calculate_area(self):\n",
    "        return math.pi * self.raduis**2\n",
    "\n",
    "    # Calculate and return the perimeter of the circle using the formula: 2π * r\n",
    "    def calculate_perimeter(self):\n",
    "        return 2 * math.pi * self.raduis"
   ]
  },
  {
   "cell_type": "markdown",
   "id": "0fbee989-ae8b-4485-ac70-920671a6347b",
   "metadata": {},
   "source": [
    "### Rectangle"
   ]
  },
  {
   "cell_type": "code",
   "execution_count": 5,
   "id": "6ce3751a-d3f5-455e-bbad-101f165ffa04",
   "metadata": {},
   "outputs": [],
   "source": [
    "# Define a derived class called Rectangle, which inherits from the Shape class\n",
    "class Rectangle(Shape):\n",
    "    # Initialize the Rectangle object with given length and width\n",
    "    def __init__(self, length, width):\n",
    "        self.length = length\n",
    "        self.width = width\n",
    "\n",
    "    # Calculate and return the area of the rectangle using the formula: length * width\n",
    "    def calculate_area(self):\n",
    "        return self.length * self.width\n",
    "    # Calculate and return the perimeter of the rectangle using the formula: 2 * (length + width)\n",
    "    def calculate_perimeter(self):\n",
    "        return 2 * (self.length * self.width)"
   ]
  },
  {
   "cell_type": "markdown",
   "id": "6159b654-91da-4927-9e04-711fe5d87418",
   "metadata": {},
   "source": [
    "### Triangle"
   ]
  },
  {
   "cell_type": "code",
   "execution_count": 20,
   "id": "364fec03-8d19-4b8a-bd6e-951389c7215c",
   "metadata": {},
   "outputs": [],
   "source": [
    "# Define a derived class called Triangle, which inherits from the Shape class\n",
    "class Triangle(shape):\n",
    "    # Initialize the Triangle object with a base, height, and three side lengths\n",
    "    def __init__(self, base, height, side1, side2, side3):\n",
    "        self.base = base\n",
    "        self.height = height\n",
    "        self.side1 = side1\n",
    "        self.side2 = side2\n",
    "        self.side3 = side3\n",
    "\n",
    "    # Calculate and return the area of the triangle using the formula: 0.5 * base * height\n",
    "    def calculate_area(self):\n",
    "        return 0.5 * self.base * self.height\n",
    "\n",
    "    # Calculate and return the perimeter of the triangle by adding the lengths of its three sides\n",
    "    def calculate_perimeter(self):\n",
    "        return self.side1 + self.side2 + self.side3"
   ]
  },
  {
   "cell_type": "markdown",
   "id": "1cfc26a0-0767-468b-847e-59dca5ad99da",
   "metadata": {},
   "source": [
    "####  Example usage"
   ]
  },
  {
   "cell_type": "code",
   "execution_count": 7,
   "id": "47c76d0c-9632-453a-b58a-201f1d22a930",
   "metadata": {},
   "outputs": [
    {
     "name": "stdout",
     "output_type": "stream",
     "text": [
      "Radius of the circle: 7\n",
      "Circle Area 153.93804002589985\n",
      "Circle Perimeter 43.982297150257104\n"
     ]
    }
   ],
   "source": [
    "# Create a Circle object with a given radius and calculate its area and perimeter\n",
    "r = 7\n",
    "cir = Circle(r)\n",
    "cir_area = cir.calculate_area()\n",
    "cir_perimeter = cir.calculate_perimeter()\n",
    "\n",
    "# Print the results for the Circle\n",
    "print(\"Radius of the circle:\", r)\n",
    "print('Circle Area', cir_area)\n",
    "print('Circle Perimeter', cir_perimeter)"
   ]
  },
  {
   "cell_type": "code",
   "execution_count": 13,
   "id": "00783090-8540-4298-bb80-76a511e60655",
   "metadata": {},
   "outputs": [
    {
     "name": "stdout",
     "output_type": "stream",
     "text": [
      "\n",
      "Rectangle: length =  122  width = 1001\n",
      "Rectangle Area:  122122\n",
      "Rectangle Perimiter:  244244\n"
     ]
    }
   ],
   "source": [
    "# Create a Rectangle object with given length and width and calculate its area and perimeter\n",
    "l = 122\n",
    "w = 1001\n",
    "rect = Rectangle(l,w)\n",
    "rect_area = rect.calculate_area()\n",
    "rect_perimiter = rect.calculate_perimeter()\n",
    "\n",
    "# Print the results for the Rectangle\n",
    "print('\\nRectangle: length = ', l, ' width =', w)\n",
    "print('Rectangle Area: ', rect_area)\n",
    "print('Rectangle Perimiter: ', rect_perimiter)"
   ]
  },
  {
   "cell_type": "code",
   "execution_count": 21,
   "id": "34b8995b-e92c-490e-af7b-e2ac7c9c6caf",
   "metadata": {},
   "outputs": [
    {
     "name": "stdout",
     "output_type": "stream",
     "text": [
      "\n",
      "Triangle: Base = 5  Height = 4  side1 = 4  side2 = 3  side3 = 5\n",
      "Triangle Area: 10.0\n",
      "Triangle Perimeter: 12\n"
     ]
    }
   ],
   "source": [
    "# Create a Triangle object with a base, height, and three side lengths, and calculate its area and perimeter\n",
    "base = 5\n",
    "height = 4\n",
    "s1 = 4\n",
    "s2 = 3\n",
    "s3 = 5\n",
    "\n",
    "# Print the results for the Triangle\n",
    "print(\"\\nTriangle: Base =\", base, \" Height =\", height, \" side1 =\", s1, \" side2 =\", s2, \" side3 =\", s3)\n",
    "triangle = Triangle(base, height, s1, s2, s3)\n",
    "triangle_area = triangle.calculate_area()\n",
    "triangle_perimeter = triangle.calculate_perimeter()\n",
    "print(\"Triangle Area:\", triangle_area)\n",
    "print(\"Triangle Perimeter:\", triangle_perimeter)\n"
   ]
  },
  {
   "cell_type": "code",
   "execution_count": null,
   "id": "04ccd236-1542-47fc-adc4-28072e2ed6bf",
   "metadata": {},
   "outputs": [],
   "source": []
  }
 ],
 "metadata": {
  "kernelspec": {
   "display_name": "Python 3 (ipykernel)",
   "language": "python",
   "name": "python3"
  },
  "language_info": {
   "codemirror_mode": {
    "name": "ipython",
    "version": 3
   },
   "file_extension": ".py",
   "mimetype": "text/x-python",
   "name": "python",
   "nbconvert_exporter": "python",
   "pygments_lexer": "ipython3",
   "version": "3.11.7"
  }
 },
 "nbformat": 4,
 "nbformat_minor": 5
}
